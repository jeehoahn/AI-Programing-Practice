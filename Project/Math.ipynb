{
 "cells": [
  {
   "cell_type": "code",
   "execution_count": 1,
   "metadata": {},
   "outputs": [
    {
     "name": "stdout",
     "output_type": "stream",
     "text": [
      "조안은 해변에서 70개의 바다 껍질을 발견했다. 그녀는 샘에게 바다 껍질 몇 개를 주었다. 그녀는 27개의 바다 껍질을 가지고 있다. 그녀가 샘에게 얼마나 많은 바다표를 건넸어?. \n",
      "바구니에는 28개의 바구니가 있었다. 팀은 오늘 헛간에 수북이 쌓여 있었다. 이제 축사에는 54개의 바다가 있다. 그가 축사에 얼마나 많은 사람들을 보관했나요?. \n",
      "메리가 케이크를 굽고 있다. 그 레시피는 8컵의 밀가루를 원한다. 그녀는 이미 두 잔을 넣었다. 그녀가 얼마나 많은 컵을 추가해야 할까?. \n",
      "사라의 고등학교는 올해 12개의 농구 경기를 했다. 그 팀은 대부분의 경기에서 우승했다. 그들은 4경기 동안 패배했다. 그들이 얼마나 많은 게임을 이겼어?. \n",
      "현재 공원에는 22그루의 나무가 있다. 공원 노동자들은 오늘 나무를 심을 것이다. 노동자들이 끝나면 공원에는 55그루의 나무가 있을 것이다. 그 노동자들이 오늘 몇 그루의 나무를 심었나요?. \n",
      "마이크는 과일 요리에 34마리의 복숭아를 먹었다. 그는 화초에 가서 복숭아를 집어 넣어 먹었다. 이제 86마리의 복숭아가 있다. 그가 몇 명을 뽑았어?. \n",
      "꽃병에는 6개의 장미가 있었다. 메리는 자신의 꽃밭에서 장미를 조금 잘랐다. 이제 꽃병에는 16개의 장미가 있다. 그녀가 얼마나 많은 장미를 자른 거야?. \n",
      "조앤은 올해 4차례 축구 경기에 출전했다. 그녀는 지난해 9경기에 출전했다. 조앤이 얼마나 많은 축구 경기를 했지?. \n",
      "톰은 노란 풍선 9개를 가지고 있는데 사라에는 노란색 풍선이 8개 있다. 그들이 총 얼마나 많은 노란 풍선을 가지고 있는가?. \n",
      "현재 공원에는 나무 4그루가 있다. 공원 노동자들은 오늘 6그루의 나무를 심을 예정이다. 그 공원은 근로자들이 끝나면 몇 그루의 나무가 있을까?. \n",
      "샘은 자신의 은행에서 9배나 되는 돈을 벌었다. 그의 아버지가 그에게 일곱 번을 주었다. 샘이 지금 몇 번이나 가지고 있니?. \n"
     ]
    }
   ],
   "source": [
    "import os\n",
    "import json\n",
    "\n",
    "directory=(r\"C:\\Users\\jeeho\\OneDrive\\문서\\GitHub\\AI-Programing-Practice\\Project\\번역한데이터\\MaWPS\\questions.json\") # 다운한 파일 경로로 수정\n",
    "with open(directory, 'r', encoding='utf-8') as file:\n",
    "    data = json.load(file)\n",
    "answers=[]\n",
    "questions=[]\n",
    "\n",
    "cnt=0\n",
    "for i in data:\n",
    "    questions.append(i[\"trans_Question\"])\n",
    "    answers.append(i[\"lSolutions\"])\n",
    "    cnt+=1\n",
    "    if cnt>10: break\n",
    "\n",
    "for i in questions:\n",
    "    print(i)"
   ]
  },
  {
   "cell_type": "code",
   "execution_count": 4,
   "metadata": {},
   "outputs": [],
   "source": [
    "from transformers import ElectraTokenizer, ElectraModel\n",
    "import torch\n",
    "import kss\n",
    "import re\n",
    "from Token_Module import *\n",
    "sentence_tokens=[]\n",
    "number_tokens=[]\n",
    "word_tokens=[]\n",
    "\n",
    "for i in questions: # 문장 토큰\n",
    "    sentence_tokens.append(kss.split_sentences(i))\n",
    "\n",
    "model_name='monologg/koelectra-small-v2-distilled-korquad-384'\n",
    "tokenizer = ElectraTokenizer.from_pretrained(model_name)\n",
    "model = ElectraModel.from_pretrained(model_name)\n",
    "\n",
    "for i in range(len(questions)):\n",
    "    number_tokens.append(get_number_tokens(questions[i], model, tokenizer))\n",
    "    word_tokens.append(get_word_tokens(questions[i], number_tokens[i], model, tokenizer))"
   ]
  },
  {
   "cell_type": "code",
   "execution_count": 6,
   "metadata": {},
   "outputs": [
    {
     "name": "stdout",
     "output_type": "stream",
     "text": [
      "[[70, 27], [28, 54], [8, 2], [12, 4], [22, 55], [34, 86], [6, 16], [4, 9], [9, 8], [4, 6], [9, 7]]\n",
      "[[['해변에서', '개의'], ['그녀는', '개의']], [['바구니에는', '개의'], ['축사에는', '개의']], [['레시피는', '컵의'], ['이미', '잔을']], [['올해', '개의'], ['그들은', '경기']], [['공원에는', '그루의'], ['공원에는', '그루의']], [['요리에', '마리의'], ['이제', '마리의']], [['꽃병에는', '개의'], ['꽃병에는', '개의']], [['올해', '차례'], ['지난해', '경기에']], [['풍선', '개를'], ['풍선이', '개']], [['나무', '그루가'], ['오늘', '그루의']], [['은행에서', '배나'], ['그에게', '번을']]]\n",
      "[['조안은 해변에서 70개의 바다 껍질을 발견했다.', '그녀는 샘에게 바다 껍질 몇 개를 주었다.', '그녀는 27개의 바다 껍질을 가지고 있다.', '그녀가 샘에게 얼마나 많은 바다표를 건넸어?.'], ['바구니에는 28개의 바구니가 있었다.', '팀은 오늘 헛간에 수북이 쌓여 있었다.', '이제 축사에는 54개의 바다가 있다.', '그가 축사에 얼마나 많은 사람들을 보관했나요?.'], ['메리가 케이크를 굽고 있다.', '그 레시피는 8컵의 밀가루를 원한다.', '그녀는 이미 두 잔을 넣었다.', '그녀가 얼마나 많은 컵을 추가해야 할까?.'], ['사라의 고등학교는 올해 12개의 농구 경기를 했다.', '그 팀은 대부분의 경기에서 우승했다.', '그들은 4경기 동안 패배했다.', '그들이 얼마나 많은 게임을 이겼어?.'], ['현재 공원에는 22그루의 나무가 있다.', '공원 노동자들은 오늘 나무를 심을 것이다.', '노동자들이 끝나면 공원에는 55그루의 나무가 있을 것이다.', '그 노동자들이 오늘 몇 그루의 나무를 심었나요?.'], ['마이크는 과일 요리에 34마리의 복숭아를 먹었다.', '그는 화초에 가서 복숭아를 집어 넣어 먹었다.', '이제 86마리의 복숭아가 있다.', '그가 몇 명을 뽑았어?.'], ['꽃병에는 6개의 장미가 있었다.', '메리는 자신의 꽃밭에서 장미를 조금 잘랐다.', '이제 꽃병에는 16개의 장미가 있다.', '그녀가 얼마나 많은 장미를 자른 거야?.'], ['조앤은 올해 4차례 축구 경기에 출전했다.', '그녀는 지난해 9경기에 출전했다.', '조앤이 얼마나 많은 축구 경기를 했지?.'], ['톰은 노란 풍선 9개를 가지고 있는데 사라에는 노란색 풍선이 8개 있다.', '그들이 총 얼마나 많은 노란 풍선을 가지고 있는가?.'], ['현재 공원에는 나무 4그루가 있다.', '공원 노동자들은 오늘 6그루의 나무를 심을 예정이다.', '그 공원은 근로자들이 끝나면 몇 그루의 나무가 있을까?.'], ['샘은 자신의 은행에서 9배나 되는 돈을 벌었다.', '그의 아버지가 그에게 일곱 번을 주었다.', '샘이 지금 몇 번이나 가지고 있니?.']]\n"
     ]
    }
   ],
   "source": [
    "print(number_tokens)\n",
    "print(word_tokens)\n",
    "print(sentence_tokens)"
   ]
  },
  {
   "cell_type": "code",
   "execution_count": null,
   "metadata": {},
   "outputs": [],
   "source": [
    "from Adjacency_Matrix import create_adjacency_matrix\n",
    "Gqcomp=[]\n",
    "edges=[]\n",
    "\n",
    "for i in len(number_tokens):\n",
    "    for j in len(number_tokens):\n",
    "        edges.append(list())\n",
    "\n",
    "\n",
    "for i in number_tokens:\n",
    "    Gqcomp.append(create_adjacency_matrix(len(i), edges))"
   ]
  }
 ],
 "metadata": {
  "kernelspec": {
   "display_name": "Python 3",
   "language": "python",
   "name": "python3"
  },
  "language_info": {
   "codemirror_mode": {
    "name": "ipython",
    "version": 3
   },
   "file_extension": ".py",
   "mimetype": "text/x-python",
   "name": "python",
   "nbconvert_exporter": "python",
   "pygments_lexer": "ipython3",
   "version": "3.11.3"
  }
 },
 "nbformat": 4,
 "nbformat_minor": 2
}
