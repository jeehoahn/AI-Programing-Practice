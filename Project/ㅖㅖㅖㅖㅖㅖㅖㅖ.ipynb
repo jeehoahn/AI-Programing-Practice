{
 "cells": [
  {
   "cell_type": "code",
   "execution_count": null,
   "metadata": {},
   "outputs": [],
   "source": [
    "pip install gradio tensorflow transformers"
   ]
  },
  {
   "cell_type": "code",
   "execution_count": null,
   "metadata": {},
   "outputs": [],
   "source": [
    "import gradio as gr\n",
    "import tensorflow as tf\n",
    "from transformers import TFGPT2LMHeadModel, GPT2Tokenizer\n",
    "\n",
    "model = TFGPT2LMHeadModel.from_pretrained(\"gpt2\")\n",
    "tokenizer = GPT2Tokenizer.from_pretrained(\"gpt2\")\n",
    "\n",
    "def generate_text(input):\n",
    "    input_ids = tokenizer.encode(input, return_tensors='tf')\n",
    "    attention_mask = tf.ones_like(input_ids)\n",
    "    \n",
    "    pad_token_id = tokenizer.eos_token_id\n",
    "    \n",
    "    beam_output = model.generate(\n",
    "        input_ids,\n",
    "        max_length=50,\n",
    "        num_beams=5,\n",
    "        no_repeat_ngram_size=2,\n",
    "        early_stopping=True,\n",
    "        attention_mask=attention_mask,\n",
    "        pad_token_id=pad_token_id\n",
    "    )\n",
    "    \n",
    "    Output = tokenizer.decode(beam_output[0], skip_special_tokens=True, clean_up_tokenization_spaces=True)\n",
    "    \n",
    "    return \".\".join(Output.split(\".\")[:-1]) + \".\"\n",
    "\n",
    "output_text = gr.Textbox()\n",
    "gr.Interface(generate_text, \"textbox\", output_text, title=\"AI 잘하고 싶ㅏㄷ\").launch()"
   ]
  },
  {
   "cell_type": "code",
   "execution_count": null,
   "metadata": {},
   "outputs": [],
   "source": [
    "pip install text-summarizer gensim"
   ]
  },
  {
   "cell_type": "code",
   "execution_count": null,
   "metadata": {},
   "outputs": [],
   "source": [
    "pip install nltk iso-639 langdetect # text-summarizer를 위해"
   ]
  },
  {
   "cell_type": "code",
   "execution_count": null,
   "metadata": {},
   "outputs": [
    {
     "ename": "ModuleNotFoundError",
     "evalue": "No module named 'dummy_algo'",
     "output_type": "error",
     "traceback": [
      "\u001b[1;31m---------------------------------------------------------------------------\u001b[0m",
      "\u001b[1;31mModuleNotFoundError\u001b[0m                       Traceback (most recent call last)",
      "\u001b[1;32mc:\\Users\\jeeho\\OneDrive\\문서\\GitHub\\AI-Programing-Practice\\Project\\ㅖㅖㅖㅖㅖㅖㅖㅖ.ipynb Cell 6\u001b[0m line \u001b[0;36m1\n\u001b[1;32m----> <a href='vscode-notebook-cell:/c%3A/Users/jeeho/OneDrive/%EB%AC%B8%EC%84%9C/GitHub/AI-Programing-Practice/Project/%E3%85%96%E3%85%96%E3%85%96%E3%85%96%E3%85%96%E3%85%96%E3%85%96%E3%85%96.ipynb#W5sZmlsZQ%3D%3D?line=0'>1</a>\u001b[0m \u001b[39mfrom\u001b[39;00m \u001b[39mtext_summarizer\u001b[39;00m\u001b[39m.\u001b[39;00m\u001b[39mtext_summarizer\u001b[39;00m \u001b[39mimport\u001b[39;00m summarizer\n\u001b[0;32m      <a href='vscode-notebook-cell:/c%3A/Users/jeeho/OneDrive/%EB%AC%B8%EC%84%9C/GitHub/AI-Programing-Practice/Project/%E3%85%96%E3%85%96%E3%85%96%E3%85%96%E3%85%96%E3%85%96%E3%85%96%E3%85%96.ipynb#W5sZmlsZQ%3D%3D?line=2'>3</a>\u001b[0m q\u001b[39m=\u001b[39m\u001b[39m\"\u001b[39m\u001b[39m한 변의 길이가 6cm인 정사각형의 넓이를 구하시오\u001b[39m\u001b[39m\"\u001b[39m\n",
      "File \u001b[1;32mc:\\Users\\jeeho\\AppData\\Local\\Programs\\Python\\Python311\\Lib\\site-packages\\text_summarizer\\text_summarizer.py:1\u001b[0m\n\u001b[1;32m----> 1\u001b[0m \u001b[39mfrom\u001b[39;00m \u001b[39malgo\u001b[39;00m \u001b[39mimport\u001b[39;00m DummySummarizerAlgo\n\u001b[0;32m      2\u001b[0m \u001b[39mfrom\u001b[39;00m \u001b[39malgo\u001b[39;00m \u001b[39mimport\u001b[39;00m Summ\n\u001b[0;32m      3\u001b[0m \u001b[39mfrom\u001b[39;00m \u001b[39malgo\u001b[39;00m \u001b[39mimport\u001b[39;00m TextRankAlgo\n",
      "File \u001b[1;32mc:\\Users\\jeeho\\AppData\\Local\\Programs\\Python\\Python311\\Lib\\site-packages\\algo\\__init__.py:1\u001b[0m\n\u001b[1;32m----> 1\u001b[0m \u001b[39mfrom\u001b[39;00m \u001b[39mdummy_algo\u001b[39;00m \u001b[39mimport\u001b[39;00m DummySummarizerAlgo\n\u001b[0;32m      2\u001b[0m \u001b[39mfrom\u001b[39;00m \u001b[39msumm\u001b[39;00m \u001b[39mimport\u001b[39;00m Summ\n\u001b[0;32m      3\u001b[0m \u001b[39mfrom\u001b[39;00m \u001b[39mtext_rank_algo\u001b[39;00m \u001b[39mimport\u001b[39;00m TextRankAlgo\n",
      "\u001b[1;31mModuleNotFoundError\u001b[0m: No module named 'dummy_algo'"
     ]
    }
   ],
   "source": [
    "from text_summarizer.text_summarizer import summarizer\n",
    "\n",
    "q=\"한 변의 길이가 6cm인 정사각형의 넓이를 구하시오\""
   ]
  },
  {
   "cell_type": "code",
   "execution_count": null,
   "metadata": {},
   "outputs": [
    {
     "name": "stdout",
     "output_type": "stream",
     "text": [
      "^C\n",
      "Note: you may need to restart the kernel to use updated packages.\n"
     ]
    }
   ],
   "source": [
    "pip uninstall gensim"
   ]
  },
  {
   "cell_type": "code",
   "execution_count": null,
   "metadata": {},
   "outputs": [],
   "source": [
    "pip install spacy"
   ]
  },
  {
   "cell_type": "code",
   "execution_count": 2,
   "metadata": {},
   "outputs": [
    {
     "name": "stdout",
     "output_type": "stream",
     "text": [
      "Sentence 1: a^2=9, b^2=16이다.\n",
      "Sentence 2: 가로의 길이가 a cm, 세로의 길이가 b cm인 직사각형의 넓이를 구하여라\n"
     ]
    }
   ],
   "source": [
    "import spacy\n",
    "\n",
    "nlp = spacy.load(\"ko_core_news_sm\")\n",
    "\n",
    "text = \"a^2=9, b^2=16이다. 가로의 길이가 a cm, 세로의 길이가 b cm인 직사각형의 넓이를 구하여라\"\n",
    "doc = nlp(text)\n",
    "\n",
    "sentences = [sent.text for sent in doc.sents]\n",
    "\n",
    "for i, sentence in enumerate(sentences, 1):\n",
    "    print(f\"Sentence {i}: {sentence}\")"
   ]
  }
 ],
 "metadata": {
  "kernelspec": {
   "display_name": "Python 3",
   "language": "python",
   "name": "python3"
  },
  "language_info": {
   "codemirror_mode": {
    "name": "ipython",
    "version": 3
   },
   "file_extension": ".py",
   "mimetype": "text/x-python",
   "name": "python",
   "nbconvert_exporter": "python",
   "pygments_lexer": "ipython3",
   "version": "3.11.3"
  }
 },
 "nbformat": 4,
 "nbformat_minor": 2
}
