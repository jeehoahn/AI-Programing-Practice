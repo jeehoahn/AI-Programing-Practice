{
 "cells": [
  {
   "cell_type": "code",
   "execution_count": null,
   "metadata": {},
   "outputs": [],
   "source": [
    "#똥피지지\n",
    "\n",
    "#자기가 배정된 포지션 입력하고\n",
    "#티어 높은 챔피언 5개 만약 op, 1티어가 다섯개 이상이면 op 1티어 모두 추천\n",
    "#자기가 좋아하는 챔피언이랑 비슷한 역할의 챔피언 추천??????\n",
    "#자기의 챔피언을 치고\n",
    "#가장 승률 높은 룬 세팅을 긁어오기\n",
    "\n",
    "import requests\n",
    "from bs4 import BeautifulSoup\n",
    "from selenium import webdriver\n",
    "from selenium.webdriver.common.by import By\n",
    "\n",
    "url='https://www.op.gg/champions?region=global&tier=emerald_plus&position='\n",
    "\n",
    "\n",
    "pos=input('배정된 포지션을 입력하세요 : ')\n",
    "\n",
    "if pos=='탑' or pos=='ㅌ' or pos=='top' or pos=='Top' or pos=='TOP' or pos=='x' or pos=='xkq':\n",
    "    driver = webdriver.Chrome()\n",
    "    url=url+'top'\n",
    "    driver.get(url)\n",
    "    \n",
    "    \n",
    "\n",
    "    response = requests.get(url)          #나중에 한번 모듈로 만들기\n",
    "    html = response.text\n",
    "    soup = BeautifulSoup(html, 'html.parser')\n",
    "\n",
    "    big_picture = soup.select('css-j5u3ca e1u05mw01')\n",
    "\n",
    "    for small_picture in big_picture:                       #1티어 op티어 몇 명인지 구하는 작업(지금은 모든 챔피언의 티어를 나열)\n",
    "        tbody=small_picture.findAll('tbody')\n",
    "        for champion in tbody:\n",
    "            champion_tier=champion.select_one('css-ijscnw e1u05mw04').txt\n",
    "            print(champion_tier)"
   ]
  }
 ],
 "metadata": {
  "kernelspec": {
   "display_name": "yo",
   "language": "python",
   "name": "python3"
  },
  "language_info": {
   "name": "python",
   "version": "3.10.12"
  },
  "orig_nbformat": 4
 },
 "nbformat": 4,
 "nbformat_minor": 2
}
